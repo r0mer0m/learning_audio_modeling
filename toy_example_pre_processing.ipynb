{
 "cells": [
  {
   "cell_type": "code",
   "execution_count": 14,
   "metadata": {},
   "outputs": [
    {
     "name": "stdout",
     "output_type": "stream",
     "text": [
      "The autoreload extension is already loaded. To reload it, use:\n",
      "  %reload_ext autoreload\n"
     ]
    }
   ],
   "source": [
    "%load_ext autoreload\n",
    "%autoreload 2\n",
    "%matplotlib inline"
   ]
  },
  {
   "cell_type": "code",
   "execution_count": 15,
   "metadata": {},
   "outputs": [],
   "source": [
    "import os\n",
    "from tqdm import tqdm_notebook\n",
    "import pandas as pd\n",
    "import numpy as np\n",
    "import matplotlib.pyplot as plt\n",
    "from scipy.io import wavfile\n",
    "from python_speech_features import mfcc, logfbank\n",
    "import librosa\n",
    "from pathlib import Path\n",
    "from collections import Counter\n",
    "from scipy.signal import resample\n",
    "\n",
    "from plotting_functions import *"
   ]
  },
  {
   "cell_type": "code",
   "execution_count": 16,
   "metadata": {},
   "outputs": [],
   "source": [
    "def calc_fft(y, rate):\n",
    "    n = len(y)\n",
    "    freq = np.fft.rfftfreq(n, d=1/rate) # d: amount of time btw smples\n",
    "    Y = abs(np.fft.rfft(y)/n) # magnitude and normalize by length of signal\n",
    "    \n",
    "    return (Y, freq) # magnitude & freq"
   ]
  },
  {
   "cell_type": "code",
   "execution_count": 17,
   "metadata": {},
   "outputs": [],
   "source": [
    "PATH = Path('./')\n",
    "TRAIN_FILES = Path('./simple_data/')"
   ]
  },
  {
   "cell_type": "code",
   "execution_count": 18,
   "metadata": {},
   "outputs": [
    {
     "data": {
      "text/html": [
       "<div>\n",
       "<style scoped>\n",
       "    .dataframe tbody tr th:only-of-type {\n",
       "        vertical-align: middle;\n",
       "    }\n",
       "\n",
       "    .dataframe tbody tr th {\n",
       "        vertical-align: top;\n",
       "    }\n",
       "\n",
       "    .dataframe thead th {\n",
       "        text-align: right;\n",
       "    }\n",
       "</style>\n",
       "<table border=\"1\" class=\"dataframe\">\n",
       "  <thead>\n",
       "    <tr style=\"text-align: right;\">\n",
       "      <th></th>\n",
       "      <th>fname</th>\n",
       "      <th>label</th>\n",
       "    </tr>\n",
       "  </thead>\n",
       "  <tbody>\n",
       "    <tr>\n",
       "      <th>0</th>\n",
       "      <td>5388d14d.wav</td>\n",
       "      <td>Saxophone</td>\n",
       "    </tr>\n",
       "    <tr>\n",
       "      <th>1</th>\n",
       "      <td>c685f05f.wav</td>\n",
       "      <td>Saxophone</td>\n",
       "    </tr>\n",
       "    <tr>\n",
       "      <th>2</th>\n",
       "      <td>36d20ab5.wav</td>\n",
       "      <td>Saxophone</td>\n",
       "    </tr>\n",
       "    <tr>\n",
       "      <th>3</th>\n",
       "      <td>d6665734.wav</td>\n",
       "      <td>Saxophone</td>\n",
       "    </tr>\n",
       "    <tr>\n",
       "      <th>4</th>\n",
       "      <td>7352e28f.wav</td>\n",
       "      <td>Saxophone</td>\n",
       "    </tr>\n",
       "  </tbody>\n",
       "</table>\n",
       "</div>"
      ],
      "text/plain": [
       "          fname      label\n",
       "0  5388d14d.wav  Saxophone\n",
       "1  c685f05f.wav  Saxophone\n",
       "2  36d20ab5.wav  Saxophone\n",
       "3  d6665734.wav  Saxophone\n",
       "4  7352e28f.wav  Saxophone"
      ]
     },
     "execution_count": 18,
     "metadata": {},
     "output_type": "execute_result"
    }
   ],
   "source": [
    "train_df = pd.read_csv(PATH/'instruments.csv')\n",
    "train_df.head()"
   ]
  },
  {
   "cell_type": "code",
   "execution_count": 20,
   "metadata": {},
   "outputs": [],
   "source": [
    "classes = train_df.label.unique().tolist()"
   ]
  },
  {
   "cell_type": "code",
   "execution_count": 21,
   "metadata": {},
   "outputs": [],
   "source": [
    "train_df.set_index('fname', inplace=True)"
   ]
  },
  {
   "cell_type": "markdown",
   "metadata": {},
   "source": [
    "# Rates"
   ]
  },
  {
   "cell_type": "markdown",
   "metadata": {},
   "source": [
    "**NOTE**: `scipy.io.wavefile.read` automatically detects the rate unlike `librosa.load` where you have to specify it via `sr` argument. If `sr=None` the sample rate will be used. The default is `sr=22050` Hz."
   ]
  },
  {
   "cell_type": "code",
   "execution_count": 22,
   "metadata": {},
   "outputs": [
    {
     "data": {
      "text/plain": [
       "PosixPath('simple_data/5388d14d.wav')"
      ]
     },
     "execution_count": 22,
     "metadata": {},
     "output_type": "execute_result"
    }
   ],
   "source": [
    "file_path = TRAIN_FILES/train_df.index[0]\n",
    "file_path"
   ]
  },
  {
   "cell_type": "code",
   "execution_count": 23,
   "metadata": {},
   "outputs": [],
   "source": [
    "def sample_rates(df):\n",
    "    R = {}\n",
    "    for f in df.index: \n",
    "        rate, signal = wavfile.read(TRAIN_FILES/f)\n",
    "        if rate in R: R[rate] += 1\n",
    "        else: R[rate] = 1\n",
    "    return R\n",
    "        \n",
    "# sample_rates(train_df), len(train_df)"
   ]
  },
  {
   "cell_type": "code",
   "execution_count": 24,
   "metadata": {},
   "outputs": [
    {
     "data": {
      "text/plain": [
       "(array([-189, -245, -275, ...,    1,   -1,   -1], dtype=int16), 44100)"
      ]
     },
     "execution_count": 24,
     "metadata": {},
     "output_type": "execute_result"
    }
   ],
   "source": [
    "rate, signal = wavfile.read(TRAIN_FILES/train_df.index[0])\n",
    "signal, rate"
   ]
  },
  {
   "cell_type": "code",
   "execution_count": 25,
   "metadata": {},
   "outputs": [
    {
     "data": {
      "image/png": "[encoded data removed]",
      "text/plain": [
       "<Figure size 432x288 with 1 Axes>"
      ]
     },
     "metadata": {
      "needs_background": "light"
     },
     "output_type": "display_data"
    }
   ],
   "source": [
    "plt.plot(signal)\n",
    "plt.show()"
   ]
  },
  {
   "cell_type": "markdown",
   "metadata": {},
   "source": [
    "# Down-sample"
   ]
  },
  {
   "cell_type": "code",
   "execution_count": 26,
   "metadata": {},
   "outputs": [],
   "source": [
    "def envelop_mask(y, rate, threshold=.0005):\n",
    "    '''\n",
    "    Computes the mask of valid/non-valid signals based on the envelop.\n",
    "    \n",
    "    to compute the evelop we don't want to check individual values that fall\n",
    "    but when a consecutive values fall --> Rolling windows. \n",
    "    \n",
    "    y: List[int], rate, threshold=.0005\n",
    "    '''\n",
    "    mask = []\n",
    "    y = pd.Series(y).apply(np.abs)\n",
    "    \n",
    "    # if more periods are needed we get NaN in the extremess.\n",
    "    y_mean = y.rolling(window=rate//10,center=True, min_periods=1).mean() \n",
    "    \n",
    "    for mean in y_mean:\n",
    "        if mean > threshold: mask.append(True)\n",
    "        else: mask.append(False)\n",
    "            \n",
    "    return mask"
   ]
  },
  {
   "cell_type": "code",
   "execution_count": 27,
   "metadata": {},
   "outputs": [],
   "source": [
    "# downsample/clean audio once\n",
    "if len(os.listdir('./clean/'))==0:\n",
    "    for f in tqdm_notebook(train_df.index):\n",
    "        signal, rate = librosa.load(TRAIN_FILES/f, sr=16_000) # librosa does resampling on load st. aboids aliasing (indistinguishable signals).  44100 -> 16000\n",
    "        mask = envelop_mask(signal, rate, threshold=0.005) # threshold to be \n",
    "        wavfile.write(filename='./clean/'+f, rate=rate, data=signal[mask])"
   ]
  }
 ],
 "metadata": {
  "kernelspec": {
   "display_name": "Python 3",
   "language": "python",
   "name": "python3"
  },
  "language_info": {
   "codemirror_mode": {
    "name": "ipython",
    "version": 3
   },
   "file_extension": ".py",
   "mimetype": "text/x-python",
   "name": "python",
   "nbconvert_exporter": "python",
   "pygments_lexer": "ipython3",
   "version": "3.7.3"
  },
  "nav_menu": {},
  "toc": {
   "navigate_menu": true,
   "number_sections": true,
   "sideBar": true,
   "threshold": 6,
   "toc_cell": false,
   "toc_section_display": "block",
   "toc_window_display": false
  }
 },
 "nbformat": 4,
 "nbformat_minor": 2
}
